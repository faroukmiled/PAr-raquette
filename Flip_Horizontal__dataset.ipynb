{
  "nbformat": 4,
  "nbformat_minor": 0,
  "metadata": {
    "colab": {
      "provenance": []
    },
    "kernelspec": {
      "name": "python3",
      "display_name": "Python 3"
    },
    "language_info": {
      "name": "python"
    }
  },
  "cells": [
    {
      "cell_type": "code",
      "execution_count": null,
      "metadata": {
        "id": "JOGrDrgyjWtq"
      },
      "outputs": [],
      "source": [
        "import torch\n",
        "import torchvision.transforms as transforms\n",
        "from torchvision.utils import save_image\n",
        "import cv2 as cv\n",
        "from matplotlib import pyplot as plt"
      ]
    },
    {
      "cell_type": "code",
      "source": [
        "import os\n",
        "from os import listdir\n",
        "from os.path import isfile, join\n",
        "from PIL import Image\n",
        "'''\n",
        "flip an image Vertically in a random fashion with a given probability p\n",
        "\n",
        "If p = 1, it returns a Vertically flipped image.\n",
        "\n",
        "If p = 0, It returns the original image.\n",
        "\n",
        "If p is in the range (0,1), then the probability to return the Vertically flipped image is p.\n",
        "'''\n",
        "Horizontal_Flipping_Transformation = transforms.Compose([\n",
        "    transforms.ToPILImage(),\n",
        "    transforms.RandomHorizontalFlip(p=1) \n",
        "])\n",
        "# cette fonction lie les images suivant leur path avec open cv\n",
        "def Load_Image(Path):\n",
        "    img = cv.imread(Path)[:,:,::-1] # opencv lie les images en format BGR                            # donc on utilise  [:,:,::-1] pour  convertir de BGR à RGB\n",
        "    return img\n",
        "\n",
        "fichiers = [f for f in listdir('/content/data/') if isfile(join('/content/data/', f))]\n",
        "for i in range(len(fichiers)):\n",
        "    raquette= Load_Image('/content/data/'+fichiers[i])\n",
        "     # Testing The Transformation...\n",
        "    Flipping_Img = Horizontal_Flipping_Transformation(raquette)\n",
        "    Flipping_Img.save('augmented1/'+'0'+fichiers[i], 'png')\n",
        "#Show_Image(raquette, 'Original Image')\n",
        "#Show_Image(Flipping_Img, 'Flipped Image')"
      ],
      "metadata": {
        "id": "WJVDMwSkujTG"
      },
      "execution_count": null,
      "outputs": []
    }
  ]
}