{
  "nbformat": 4,
  "nbformat_minor": 0,
  "metadata": {
    "colab": {
      "provenance": [],
      "collapsed_sections": [],
      "toc_visible": true
    },
    "kernelspec": {
      "name": "python3",
      "display_name": "Python 3"
    },
    "language_info": {
      "name": "python"
    }
  },
  "cells": [
    {
      "cell_type": "code",
      "execution_count": null,
      "metadata": {
        "id": "6KBV6n7aEVer",
        "colab": {
          "base_uri": "https://localhost:8080/"
        },
        "outputId": "872de829-f8cb-4da7-ce90-d6b074d4cc3c"
      },
      "outputs": [
        {
          "output_type": "stream",
          "name": "stdout",
          "text": [
            "Mounted at /content/drive\n"
          ]
        }
      ],
      "source": [
        "import pandas as pd\n",
        "from google.colab import files\n",
        "import io\n",
        "from google.colab import drive\n",
        "drive.mount('/content/drive')\n",
        "''' le dossier img doit être impérativement copié dans votre drive pour pouvoir éxécuter le code\""
      ]
    },
    {
      "cell_type": "code",
      "source": [
        "\n",
        "import xml.etree.cElementTree as et\n",
        "def get_xml_files(path):\n",
        "    ''' fonction pour extraire les fichiers xml dans un path donné.'''\n",
        "    xml_list = []\n",
        "    for filename in os.listdir(path):\n",
        "        if filename.endswith(\".xml\"):\n",
        "            xml_list.append(os.path.join(\"/content/drive/MyDrive/img\", filename))\n",
        "    return xml_list\n",
        "# Il faut penser à changer le path selon votre pc\n",
        "L=get_xml_files(\"/content/drive/MyDrive/img\")\n",
        "\n",
        "''' extraire les ficihers xml ( notre data set annoté)'''\n",
        "\n",
        "xmin1=[]\n",
        "xmax1=[]\n",
        "ymin1=[]\n",
        "ymax1=[]\n",
        "for ch in L:\n",
        "    tree=et.parse(ch)\n",
        "    ch=ch.split('\\\\')[-1]# prendre juste le nom du frame à traiter\n",
        "    root=tree.getroot()\n",
        "    '''Définir les informations importantes à garder'''\n",
        "    \n",
        "    for xmin in root.iter('xmin'):\n",
        "        xmin1.append(int(xmin.text))\n",
        "    for xmax in root.iter('xmax'):\n",
        "        xmax1.append(int(xmax.text))\n",
        "    for ymin in root.iter('ymin'):\n",
        "        ymin1.append(int(ymin.text))\n",
        "    for ymax in root.iter('ymax'):\n",
        "        ymax1.append(int(ymax.text))\n",
        "''' Définir par une liste la zone rectangulaire dans laquelle la raquette sera située quelque\n",
        " soit le frame avec une probabilité élevée '''\n",
        "print(\"la liste suivante délimite la zone rectangulaire dans laquelle la raquette sera située quelque soit le frame avec une probabilité élevée \")\n",
        "print([min(xmin1),max(xmax1),min(ymin1),max(ymax1)])"
      ],
      "metadata": {
        "colab": {
          "base_uri": "https://localhost:8080/"
        },
        "id": "qXkwdTQ4vdxr",
        "outputId": "412f3950-dcc6-46e3-b0b3-0c8413e888d6"
      },
      "execution_count": 49,
      "outputs": [
        {
          "output_type": "stream",
          "name": "stdout",
          "text": [
            "la liste suivante délimite la zone rectangulaire dans laquelle la raquette sera située quelque soit le frame avec une probabilité élevée \n",
            "[613, 778, 216, 290]\n"
          ]
        }
      ]
    }
  ]
}